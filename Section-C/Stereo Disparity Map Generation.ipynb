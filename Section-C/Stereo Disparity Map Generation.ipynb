{
 "cells": [
  {
   "cell_type": "markdown",
   "metadata": {},
   "source": [
    "# Image Processing"
   ]
  },
  {
   "cell_type": "markdown",
   "metadata": {},
   "source": [
    "#### The Task was to create a Disparity Map using Stereo Images and then calculate the Root Mean Square Error Between the\n",
    "- #### a) Original Left and Right Images (Without using disparity correction)\n",
    "- #### b) Left and Right Images (After applying disparity correction)\n",
    "\n",
    "The dataset used is available on this link http://vision.middlebury.edu/stereo/submit3/. "
   ]
  },
  {
   "cell_type": "markdown",
   "metadata": {},
   "source": [
    "# Algorithm used\n",
    "\n",
    "## Basic Block matching Algorithm \n",
    "\n",
    "1. A template on right image is taken\n",
    "2. A corresponding block on the left image is taken\n",
    "3. The loss function is applied like Sum of Absolute Distance\n",
    "4. The block is moved one place on the left image and the loss is calculated again\n",
    "5. The process is repeated till the block reaches the end of window\n",
    "6. Then the least disparity (shift) with least loss is saved"
   ]
  },
  {
   "cell_type": "markdown",
   "metadata": {},
   "source": [
    "### Importing Libraries"
   ]
  },
  {
   "cell_type": "code",
   "execution_count": 1,
   "metadata": {},
   "outputs": [],
   "source": [
    "import cv2\n",
    "# For loading of images and converting the images into arrays\n",
    "\n",
    "import matplotlib.pyplot as plt\n",
    "# For plotting the images so that it can be visualized\n",
    "\n",
    "import numpy as np\n",
    "# For implementing matrix operations and application of algorithm"
   ]
  },
  {
   "cell_type": "markdown",
   "metadata": {},
   "source": [
    "### Visualizing the image"
   ]
  },
  {
   "cell_type": "code",
   "execution_count": 2,
   "metadata": {},
   "outputs": [],
   "source": [
    "plt.rcParams['figure.figsize'] = (16, 9)\n",
    "# Sets the default plotting size of images"
   ]
  },
  {
   "cell_type": "code",
   "execution_count": 3,
   "metadata": {},
   "outputs": [
    {
     "ename": "error",
     "evalue": "OpenCV(3.4.5) /io/opencv/modules/imgproc/src/color.cpp:181: error: (-215:Assertion failed) !_src.empty() in function 'cvtColor'\n",
     "output_type": "error",
     "traceback": [
      "\u001b[0;31m---------------------------------------------------------------------------\u001b[0m",
      "\u001b[0;31merror\u001b[0m                                     Traceback (most recent call last)",
      "\u001b[0;32m<ipython-input-3-77ef6800a82b>\u001b[0m in \u001b[0;36m<module>\u001b[0;34m\u001b[0m\n\u001b[1;32m      5\u001b[0m \u001b[0;31m# Reads and loads the right image\u001b[0m\u001b[0;34m\u001b[0m\u001b[0;34m\u001b[0m\u001b[0m\n\u001b[1;32m      6\u001b[0m \u001b[0;34m\u001b[0m\u001b[0m\n\u001b[0;32m----> 7\u001b[0;31m \u001b[0mimg_left\u001b[0m \u001b[0;34m=\u001b[0m \u001b[0mcv2\u001b[0m\u001b[0;34m.\u001b[0m\u001b[0mcvtColor\u001b[0m\u001b[0;34m(\u001b[0m\u001b[0mimg_left\u001b[0m\u001b[0;34m,\u001b[0m \u001b[0mcv2\u001b[0m\u001b[0;34m.\u001b[0m\u001b[0mCOLOR_BGR2GRAY\u001b[0m\u001b[0;34m)\u001b[0m\u001b[0;34m\u001b[0m\u001b[0m\n\u001b[0m\u001b[1;32m      8\u001b[0m \u001b[0mimg_right\u001b[0m \u001b[0;34m=\u001b[0m \u001b[0mcv2\u001b[0m\u001b[0;34m.\u001b[0m\u001b[0mcvtColor\u001b[0m\u001b[0;34m(\u001b[0m\u001b[0mimg_right\u001b[0m\u001b[0;34m,\u001b[0m \u001b[0mcv2\u001b[0m\u001b[0;34m.\u001b[0m\u001b[0mCOLOR_BGR2GRAY\u001b[0m\u001b[0;34m)\u001b[0m\u001b[0;34m\u001b[0m\u001b[0m\n\u001b[1;32m      9\u001b[0m \u001b[0;31m# Converts the color channel into grayscale so that it is easier to work with\u001b[0m\u001b[0;34m\u001b[0m\u001b[0;34m\u001b[0m\u001b[0m\n",
      "\u001b[0;31merror\u001b[0m: OpenCV(3.4.5) /io/opencv/modules/imgproc/src/color.cpp:181: error: (-215:Assertion failed) !_src.empty() in function 'cvtColor'\n"
     ]
    }
   ],
   "source": [
    "img_left = cv2.imread('./MiddEval3/trainingQ/Vintage/im0.png')\n",
    "# Reads and loads the left image\n",
    "\n",
    "img_right = cv2.imread('./MiddEval3/trainingQ/Vintage/im1.png')\n",
    "# Reads and loads the right image\n",
    "\n",
    "img_left = cv2.cvtColor(img_left, cv2.COLOR_BGR2GRAY)\n",
    "img_right = cv2.cvtColor(img_right, cv2.COLOR_BGR2GRAY)\n",
    "# Converts the color channel into grayscale so that it is easier to work with\n",
    "\n",
    "plt.subplot(121) \n",
    "plt.axis('off')\n",
    "plt.imshow(img_left, cmap='gray')\n",
    "\n",
    "plt.subplot(122)\n",
    "plt.axis('off')\n",
    "plt.imshow(img_right, cmap='gray')\n",
    "# Plots the images so that it can be viewed "
   ]
  },
  {
   "cell_type": "markdown",
   "metadata": {},
   "source": [
    "### Initializing Variables used"
   ]
  },
  {
   "cell_type": "code",
   "execution_count": null,
   "metadata": {},
   "outputs": [],
   "source": [
    "# Image array returned by cv2 is a 8-bit integer array\n",
    "# we convert it to 32-bit integer array to perform mathematical operation\n",
    "\n",
    "img_array_left = np.asarray(img_left, dtype=\"int32\" )\n",
    "img_array_right = np.asarray(img_right, dtype=\"int32\")"
   ]
  },
  {
   "cell_type": "code",
   "execution_count": null,
   "metadata": {},
   "outputs": [],
   "source": [
    "# Initiating the disparity map\n",
    "# The size of disparity map is equal to the size of the images\n",
    "# Currently the disparity of all pixels is set to zero which will be updated later\n",
    "\n",
    "disparity_map = np.zeros(img_array_left.shape)"
   ]
  },
  {
   "cell_type": "code",
   "execution_count": null,
   "metadata": {},
   "outputs": [],
   "source": [
    "block_size = 10\n",
    "# Defines the Block Size\n",
    "\n",
    "window_size = 100\n",
    "# Defines the sliding window size\n",
    "\n",
    "IMG_ROWS = img_array_left.shape[0]\n",
    "IMG_COLS = img_array_left.shape[1]\n",
    "# Getting the shape of image for loop"
   ]
  },
  {
   "cell_type": "markdown",
   "metadata": {},
   "source": [
    "### Custom Loss Functions"
   ]
  },
  {
   "cell_type": "code",
   "execution_count": null,
   "metadata": {},
   "outputs": [],
   "source": [
    "def sum_squared_distance(a,b):\n",
    "    return np.square(a-b).sum()\n",
    "\n",
    "\n",
    "def sum_absolute_distance(a,b):\n",
    "    return np.abs(a-b).sum()"
   ]
  },
  {
   "cell_type": "code",
   "execution_count": null,
   "metadata": {},
   "outputs": [],
   "source": [
    "for i in range(IMG_ROWS-block_size+1):\n",
    "# Iterating through all the rows\n",
    "    \n",
    "    for j in range(IMG_COLS-block_size+1):\n",
    "    # Iterating through all the columns \n",
    "        \n",
    "        disparity = []\n",
    "        # placeholder array for storing all the disparity values\n",
    "        \n",
    "        right = img_array_right[i:i+block_size,j:j+block_size]\n",
    "        # Current Window on the right image, the next loop will search this template in the left image\n",
    "        \n",
    "        for k in range(window_size):\n",
    "        # The loop for iterating the template through the window\n",
    "        \n",
    "            if(j+k+block_size<IMG_COLS):\n",
    "            # This if statement checks if the current block in the window has reached the end of the image\n",
    "            # if the end is reached the block always returns the last value    \n",
    "                left = img_array_left[i:i+block_size,j+k:j+block_size+k]\n",
    "            else: \n",
    "                left = img_array_left[i:i+block_size,-block_size:]\n",
    "            \n",
    "            # The disparity is calculated using the custom  loss function\n",
    "            current_disparity = sum_absolute_distance(left,right)\n",
    "            \n",
    "            # The disparity is stored in the placeholder \n",
    "            disparity.append(current_disparity)\n",
    "            \n",
    "        np.array(disparity)\n",
    "        \n",
    "        # The disparity for the highest matching block and template is stored in the disparity map\n",
    "        disparity_map[i][j]=np.argmin(disparity)"
   ]
  },
  {
   "cell_type": "code",
   "execution_count": null,
   "metadata": {},
   "outputs": [],
   "source": [
    "# The disparity map is visualized\n",
    "# Blue shows the area that is further behind\n",
    "# Yellow shows the area nearer to the camera\n",
    "\n",
    "plt.imshow(disparity_map, cmap='inferno')\n",
    "plt.colorbar()"
   ]
  },
  {
   "cell_type": "markdown",
   "metadata": {},
   "source": [
    "## RMSE"
   ]
  },
  {
   "cell_type": "code",
   "execution_count": null,
   "metadata": {},
   "outputs": [],
   "source": [
    "np.sqrt(np.square(img_array_left - img_array_right).sum())/img_array_left.size"
   ]
  },
  {
   "cell_type": "code",
   "execution_count": null,
   "metadata": {},
   "outputs": [],
   "source": [
    "adjusted = np.zeros(img_array_left.shape)"
   ]
  },
  {
   "cell_type": "code",
   "execution_count": null,
   "metadata": {},
   "outputs": [],
   "source": [
    "for i in range(img_array_left.shape[0]):\n",
    "    for j in range(img_array_left.shape[1]):\n",
    "        k = int(disparity_map[i][j])\n",
    "        adjusted[i][j] = img_array_left[i][j+k]"
   ]
  },
  {
   "cell_type": "code",
   "execution_count": null,
   "metadata": {},
   "outputs": [],
   "source": [
    "np.sqrt(np.square(img_array_right - adjusted).sum())"
   ]
  },
  {
   "cell_type": "code",
   "execution_count": null,
   "metadata": {},
   "outputs": [],
   "source": []
  }
 ],
 "metadata": {
  "kernelspec": {
   "display_name": "Python 3",
   "language": "python",
   "name": "python3"
  },
  "language_info": {
   "codemirror_mode": {
    "name": "ipython",
    "version": 3
   },
   "file_extension": ".py",
   "mimetype": "text/x-python",
   "name": "python",
   "nbconvert_exporter": "python",
   "pygments_lexer": "ipython3",
   "version": "3.6.6"
  }
 },
 "nbformat": 4,
 "nbformat_minor": 2
}
